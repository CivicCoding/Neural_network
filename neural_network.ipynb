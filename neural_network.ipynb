{
 "cells": [
  {
   "cell_type": "code",
   "execution_count": 80,
   "id": "5773e85b-6586-4ec2-8e27-4d31ae28acc2",
   "metadata": {},
   "outputs": [],
   "source": [
    "import matplotlib.pyplot\n",
    "%matplotlib inline\n",
    "import numpy"
   ]
  },
  {
   "cell_type": "markdown",
   "id": "9c47f1b6-69d3-4c29-81c6-5e7f5f1cab18",
   "metadata": {},
   "source": [
    "## 手写简单神经网络"
   ]
  },
  {
   "cell_type": "code",
   "execution_count": 81,
   "id": "cedbaab9-4e69-49e2-83af-77489a2eafde",
   "metadata": {},
   "outputs": [],
   "source": [
    "import scipy.special\n",
    "class neural_network :\n",
    "    def __init__(self, input_nodes,hidden_nodes,output_nodes,learning_rate):\n",
    "        self.inodes = input_nodes\n",
    "        self.hnodes = hidden_nodes\n",
    "        self.onodes = output_nodes\n",
    "        self.lr = learning_rate\n",
    "        self.wih = numpy.random.normal(0.0,pow(self.hnodes, -0.5),(self.hnodes,self.inodes)) # Weight_input_hidden\n",
    "        self.who = numpy.random.normal(0.0,pow(self.onodes, -0.5),(self.onodes,self.hnodes)) # Weight_hidden_output\n",
    "        self.activation_func = lambda x: scipy.special.expit(x) #like javascript (x) => scipy.special.expit(x)\n",
    "        pass \n",
    "    # 反向传播误差,优化连接权重\n",
    "    def train(self,inputs_list,targets_list):\n",
    "        # 转换输入数组为2维矩阵\n",
    "        targets = numpy.array(targets_list,ndmin=2).T\n",
    "        inputs = numpy.array(inputs_list,ndmin=2).T\n",
    "        # X_hidden = W_input_hidden * I (input)\n",
    "        hidden_inputs = numpy.dot(self.wih,inputs) # 输入层节点的输出信号\n",
    "        hidden_outputs = self.activation_func(hidden_inputs) # 经过隐藏层激活函数调整后的输出信号\n",
    "        final_inputs = numpy.dot(self.who,hidden_outputs) # 进入输出层的输入信号\n",
    "        final_outputs = self.activation_func(final_inputs) # 经过输出层激活函数调整后的输出结果\n",
    "        # 计算误差 = 目标值 - 真实值\n",
    "        output_errors = targets - final_outputs\n",
    "        hidden_errors = numpy.dot(self.who.T,output_errors)\n",
    "        self.who += self.lr * numpy.dot((output_errors * final_outputs * (1.0 - final_outputs)),numpy.transpose(hidden_outputs))\n",
    "        self.wih += self.lr * numpy.dot((hidden_errors * hidden_outputs * (1.0 - hidden_outputs)),numpy.transpose(inputs))\n",
    "        pass\n",
    "    # 计算输出\n",
    "    def query(self, inputs_list):\n",
    "        inputs = numpy.array(inputs_list,ndmin=2).T\n",
    "        # X_hidden = W_input_hidden * I (input)\n",
    "        hidden_inputs = numpy.dot(self.wih,inputs) # 输入层节点的输出信号\n",
    "        hidden_outputs = self.activation_func(hidden_inputs) # 经过隐藏层激活函数调整后的输出信号\n",
    "        final_inputs = numpy.dot(self.who,hidden_outputs) # 进入输出层的输入信号\n",
    "        final_outputs = self.activation_func(final_inputs) # 经过输出层激活函数调整后的输出结果\n",
    "        return final_outputs"
   ]
  },
  {
   "cell_type": "code",
   "execution_count": 82,
   "id": "94984b5c-8b13-4f65-8852-1193801b7e0f",
   "metadata": {},
   "outputs": [],
   "source": [
    "inputNodes = 784\n",
    "hiddenNodes = 200\n",
    "outputNodes = 10\n",
    "learingRate = 0.1\n",
    "\n",
    "nw = neural_network(inputNodes,hiddenNodes,outputNodes,learingRate)"
   ]
  },
  {
   "cell_type": "markdown",
   "id": "318cfab2-cb57-48dc-b695-3c6795a71cbd",
   "metadata": {},
   "source": [
    "计算最终结果"
   ]
  },
  {
   "cell_type": "code",
   "execution_count": 83,
   "id": "2a84fff0-a387-4ce2-a085-a4a918ef94d5",
   "metadata": {},
   "outputs": [],
   "source": [
    "# 训练集数据\n",
    "train_data_file = open(\"mnist_train.csv\",'r') # r 标示只读\n",
    "train_data_list = train_data_file.readlines()\n",
    "train_data_file.close()\n",
    "# 测试集数据\n",
    "test_data_file = open(\"mnist_test.csv\",\"r\")\n",
    "test_data_list = test_data_file.readlines()\n",
    "train_data_file.close()"
   ]
  },
  {
   "cell_type": "code",
   "execution_count": 86,
   "id": "009347a6-fee8-42b5-82a4-93aade93ddb4",
   "metadata": {},
   "outputs": [],
   "source": [
    "\n",
    "# 使用训练集每次训练的次数\n",
    "epochs = 5\n",
    "\n",
    "for e in range(epochs):\n",
    "    for record in train_data_list:\n",
    "        all_values = record.split(',')\n",
    "        scaled_input = (numpy.asfarray(all_values[1:]) / 255.0 * 0.99) + 0.01\n",
    "        targets = numpy.zeros(outputNodes) + 0.01\n",
    "        targets[int(all_values[0])] = 0.99\n",
    "        nw.train(scaled_input,targets)\n",
    "        pass\n",
    "    pass\n",
    "#     image_array = numpy.asfarray(all_values[1:]).reshape((28,28))\n",
    "#     matplotlib.pyplot.imshow(image_array,cmap=\"Greys\",interpolation='None')"
   ]
  },
  {
   "cell_type": "code",
   "execution_count": 87,
   "id": "3c191ed7-d26d-4310-b9e5-b2a209faa14a",
   "metadata": {},
   "outputs": [],
   "source": [
    "scorecard = []\n",
    "for record in test_data_list:\n",
    "    all_values = record.split(',')\n",
    "    target_value = int(all_values[0])\n",
    "    image_array = numpy.asfarray(all_values[1:]).reshape((28,28))\n",
    "    inputs = (numpy.asfarray(all_values[1:]) / 255.0 * 0.99) + 0.01\n",
    "    answer = numpy.argmax(nw.query(inputs))\n",
    "    if(target_value == answer) :\n",
    "        scorecard.append(1)\n",
    "    else:\n",
    "        scorecard.append(0)\n",
    "        pass\n",
    "    pass\n",
    "    "
   ]
  },
  {
   "cell_type": "code",
   "execution_count": 88,
   "id": "b245a22c-71c8-4b5e-adfe-6ed384749268",
   "metadata": {},
   "outputs": [
    {
     "name": "stdout",
     "output_type": "stream",
     "text": [
      "performance =  0.9726\n"
     ]
    }
   ],
   "source": [
    "# calculate the performance score, the fraction of correct answers\n",
    "scorecard_array = numpy.asarray(scorecard)\n",
    "print (\"performance = \", scorecard_array.sum() / scorecard_array.size)"
   ]
  }
 ],
 "metadata": {
  "kernelspec": {
   "display_name": "Python 3",
   "language": "python",
   "name": "python3"
  },
  "language_info": {
   "codemirror_mode": {
    "name": "ipython",
    "version": 3
   },
   "file_extension": ".py",
   "mimetype": "text/x-python",
   "name": "python",
   "nbconvert_exporter": "python",
   "pygments_lexer": "ipython3",
   "version": "3.8.8"
  }
 },
 "nbformat": 4,
 "nbformat_minor": 5
}
